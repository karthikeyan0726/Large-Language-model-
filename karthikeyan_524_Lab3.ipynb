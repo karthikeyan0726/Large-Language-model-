{
 "cells": [
  {
   "cell_type": "code",
   "execution_count": 2,
   "id": "67f33c87-88c3-44bf-b825-96f15deff71f",
   "metadata": {},
   "outputs": [
    {
     "name": "stdin",
     "output_type": "stream",
     "text": [
      "Enter a topic on which you want to write a story on: pirates in space\n"
     ]
    },
    {
     "name": "stdout",
     "output_type": "stream",
     "text": [
      "**The Cosmic Buccaneer**\n",
      "\n",
      "In a distant corner of the galaxy, where stars twinkled like diamonds against the inky blackness, a legendary space pirate ship, the \"Midnight Revenge,\" prowled the cosmos. Captain Zara \"Blackheart\" Blake, a fearless and cunning spacefarer, commanded her crew of seasoned buccaneers. For centuries, they had plundered the riches of unsuspecting space travelers, evading authorities and building a reputation as the most feared pirates in the galaxy.\n",
      "\n",
      "The Midnight Revenge was a marvel of interstellar engineering, its hull a patchwork of salvaged parts from various ships, with a gleaming black and silver exterior that seemed to absorb the light around it. The vessel was equipped with state-of-the-art technology, including a cloaking device, advanced sensors, and a devastating arsenal of laser cannons and missiles.\n",
      "\n",
      "One fateful day, the Midnight Revenge received a cryptic transmission from an anonymous source, hinting at the existence of a fabled treasure hidden within the heart of a recently discovered, ancient alien temple. The temple, known as the \"Eternal Vault,\" was said to contain unimaginable riches, including a legendary artifact capable of granting its possessor unimaginable power.\n",
      "\n",
      "Intrigued, Captain Blackheart assembled her most trusted crew members: First Mate and master strategist, Victor \"Vic\" Vex; chief engineer and inventor, Dr. Sophia \"Spark\" Patel; and skilled gunner and marksman, Jasper \"Jazz\" Jackson. Together, they set a course for the Eternal Vault, navigating treacherous asteroid fields and hostile alien territories.\n",
      "\n",
      "Upon arrival, they found the temple shrouded in an otherworldly energy field, guarded by deadly traps and enigmatic, ancient sentinels. The pirates employed their cunning and skill to overcome the obstacles, using their advanced technology to bypass security systems and disable deadly traps.\n",
      "\n",
      "As they delved deeper into the temple, they encountered rival pirate crews, including the notorious Captain Scarlett \"Redblade\" Rourke and her ruthless gang, the \"Blood Reavers.\" A fierce space battle ensued, with laser blasts illuminating the dark vastness of space. The Midnight Revenge emerged victorious, but not without sustaining significant damage.\n",
      "\n",
      "Finally, the pirates reached the heart of the Eternal Vault, where they discovered a glittering trove of treasures beyond their wildest dreams. At the center of the chamber, they found the legendary artifact, a glowing crystal known as the \"Starheart.\" It was said to grant its possessor the power to manipulate the very fabric of space-time.\n",
      "\n",
      "However, their triumph was short-lived, as they soon realized that the Starheart was not the only treasure hidden within the temple. A powerful alien entity, known as the \"Keeper of the Vault,\" emerged from the shadows, determined to reclaim its ancient relics and punish the pirates for their transgression.\n",
      "\n",
      "Captain Blackheart and her crew faced their greatest challenge yet, as they battled the Keeper and its minions in a desperate bid to escape with their lives and the Starheart. In the heat of the battle, the pirates discovered that the Starheart was not just a simple artifact, but a key to unlocking the secrets of the universe.\n",
      "\n",
      "In the end, the Midnight Revenge succeeded in defeating the Keeper and escaping with the Starheart. As they fled the temple, they realized that their legendary status had just been elevated to new heights. The pirates had become the masters of their own destiny, with the power to shape the course of the galaxy.\n",
      "\n",
      "The Midnight Revenge vanished into the depths of space, its crew planning their next move, as the legend of Captain Blackheart and her space pirates spread throughout the galaxy, inspiring a new generation of buccaneers to set sail for the stars.\n"
     ]
    }
   ],
   "source": [
    "from langchain_groq import ChatGroq\n",
    "from langchain_core.messages import HumanMessage\n",
    "\n",
    "GROQ_API_KEY = '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'\n",
    "model = ChatGroq(model=\"llama3-70b-8192\", api_key=GROQ_API_KEY)\n",
    "\n",
    "def generate_response(question):\n",
    "    message = HumanMessage(content=question)\n",
    "    response = model.invoke([message])\n",
    "    return response.content\n",
    "\n",
    "question = input(\"Enter a topic on which you want to write a story on:\")\n",
    "answer = generate_response('write a story on '+question)\n",
    "print(answer)"
   ]
  },
  {
   "cell_type": "code",
   "execution_count": null,
   "id": "91453c86-7dfd-4e22-abde-dffe897c511b",
   "metadata": {},
   "outputs": [],
   "source": []
  }
 ],
 "metadata": {
  "kernelspec": {
   "display_name": "Python 3 (ipykernel)",
   "language": "python",
   "name": "python3"
  },
  "language_info": {
   "codemirror_mode": {
    "name": "ipython",
    "version": 3
   },
   "file_extension": ".py",
   "mimetype": "text/x-python",
   "name": "python",
   "nbconvert_exporter": "python",
   "pygments_lexer": "ipython3",
   "version": "3.11.7"
  }
 },
 "nbformat": 4,
 "nbformat_minor": 5
}
